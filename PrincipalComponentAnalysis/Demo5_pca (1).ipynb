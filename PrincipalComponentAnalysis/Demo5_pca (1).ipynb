{
  "nbformat": 4,
  "nbformat_minor": 0,
  "metadata": {
    "colab": {
      "name": "Demo5_pca.ipynb",
      "provenance": [],
      "collapsed_sections": []
    },
    "kernelspec": {
      "name": "python3",
      "display_name": "Python 3"
    },
    "accelerator": "GPU"
  },
  "cells": [
    {
      "cell_type": "code",
      "metadata": {
        "id": "b3DA-QxT0O6X",
        "colab_type": "code",
        "outputId": "638fd1f4-0bcf-4124-b6fc-df3c920dcab8",
        "colab": {
          "base_uri": "https://localhost:8080/",
          "height": 170
        }
      },
      "source": [
        "import numpy as np\n",
        "import pandas as pd\n",
        "import matplotlib.pyplot as plt\n",
        "from numpy import linalg as LA\n",
        "from sklearn import decomposition\n",
        "from sklearn.model_selection import train_test_split\n",
        "from sklearn.model_selection import cross_val_score\n",
        "from sklearn import preprocessing\n",
        "from sklearn import svm\n",
        "\n",
        "# Load data - 150 observations, 4 features, 3 classes, \n",
        "df = pd.read_csv(\"wine_dataset5.csv\", header=None)\n",
        "print(df.describe())\n",
        "data = df.values\n"
      ],
      "execution_count": 0,
      "outputs": [
        {
          "output_type": "stream",
          "text": [
            "                0           1           2           3           4\n",
            "count  178.000000  178.000000  178.000000  178.000000  178.000000\n",
            "mean    13.000618   19.494944    2.029270    5.058090    1.938202\n",
            "std      0.811827    3.339564    0.998859    2.318286    0.775035\n",
            "min     11.030000   10.600000    0.340000    1.280000    1.000000\n",
            "25%     12.362500   17.200000    1.205000    3.220000    1.000000\n",
            "50%     13.050000   19.500000    2.135000    4.690000    2.000000\n",
            "75%     13.677500   21.500000    2.875000    6.200000    3.000000\n",
            "max     14.830000   30.000000    5.080000   13.000000    3.000000\n"
          ],
          "name": "stdout"
        }
      ]
    },
    {
      "cell_type": "code",
      "metadata": {
        "id": "9J_I64r12CK1",
        "colab_type": "code",
        "colab": {}
      },
      "source": [
        "## Setup\n",
        "\n",
        "# Shuffle data randomly\n",
        "shuffled_data = data;\n",
        "np.random.shuffle(shuffled_data)\n",
        "X_df = shuffled_data[:,0:4]\n",
        "y = shuffled_data[:,4]   # labels\n",
        "\n",
        "# Zero out mean of data\n",
        "M = np.mean(X_df, axis=0)  # column mean\n",
        "X = X_df - M"
      ],
      "execution_count": 0,
      "outputs": []
    },
    {
      "cell_type": "code",
      "metadata": {
        "id": "jP3O6wo7Txh3",
        "colab_type": "code",
        "colab": {}
      },
      "source": [
        "# Perform PCA\n",
        "pca = decomposition.PCA(n_components=4).fit(X)\n",
        "X_dim = pca.transform(X)   # principal components\n",
        "p_axis = pca.components_   # principal axis\n",
        "p_axisT = np.transpose(p_axis)\n",
        "#print(pca.singular_values_)"
      ],
      "execution_count": 0,
      "outputs": []
    },
    {
      "cell_type": "code",
      "metadata": {
        "id": "vkLNZBk973ov",
        "colab_type": "code",
        "outputId": "fc18bd2c-5a0b-4403-aaae-0c8c39344939",
        "colab": {
          "base_uri": "https://localhost:8080/",
          "height": 85
        }
      },
      "source": [
        "# Evaluate reconstruction error\n",
        "Num_PC = [4, 3, 2, 1]  # number of PC's to used: 1, 2, 3, 4 use 1,2,3,4 features\n",
        "\n",
        "for k in Num_PC:\n",
        "  Xhat = np.matmul(X_dim[:,0:k], p_axisT[0:k,:])\n",
        "  print('Reconstruction error = {0:0.4f} with {1:1d} PCs'.format((np.linalg.norm(X) - np.linalg.norm(Xhat)), k))"
      ],
      "execution_count": 0,
      "outputs": [
        {
          "output_type": "stream",
          "text": [
            "Reconstruction error = -0.0000 with 4 PCs\n",
            "Reconstruction error = 0.4985 with 3 PCs\n",
            "Reconstruction error = 1.9231 with 2 PCs\n",
            "Reconstruction error = 11.8974 with 1 PCs\n"
          ],
          "name": "stdout"
        }
      ]
    },
    {
      "cell_type": "code",
      "metadata": {
        "id": "n8rmIQGCS583",
        "colab_type": "code",
        "outputId": "db417f98-39f9-4956-f78a-0ebab56e0d83",
        "colab": {
          "base_uri": "https://localhost:8080/",
          "height": 68
        }
      },
      "source": [
        "'''\n",
        "Determine classification accuracy using SVM classifier with 10-fold cross validation\n",
        "''' \n",
        "\n",
        "Num_PC_arr = [4, 1]\n",
        "model = svm.SVC(kernel='linear', C=1).fit(Xhat, y)\n",
        "print('Accuracy comparison using principal components vs original data:')\n",
        "\n",
        "for k in Num_PC_arr:\n",
        "  scores1 = cross_val_score(model, X_dim[:,0:k], y, cv=10)\n",
        "  scores2 = cross_val_score(model, X[:,0:k], y, cv=10)\n",
        "  print('{0:0.4f} with {1:1d} PCs vs {2:0.4f} with {3:1d} features'.format(scores1.mean(), k, scores2.mean(), k))"
      ],
      "execution_count": 0,
      "outputs": [
        {
          "output_type": "stream",
          "text": [
            "Accuracy comparison using principal components vs original data:\n",
            "0.9368 with 4 PCs vs 0.9368 with 4 features\n",
            "0.5097 with 1 PCs vs 0.6704 with 1 features\n"
          ],
          "name": "stdout"
        }
      ]
    },
    {
      "cell_type": "code",
      "metadata": {
        "id": "qhn1m2VDS7Bm",
        "colab_type": "code",
        "colab": {}
      },
      "source": [
        ""
      ],
      "execution_count": 0,
      "outputs": []
    }
  ]
}