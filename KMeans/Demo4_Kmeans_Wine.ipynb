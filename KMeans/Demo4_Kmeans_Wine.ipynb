{
  "nbformat": 4,
  "nbformat_minor": 0,
  "metadata": {
    "colab": {
      "name": "Demo4_Kmeans_Wine.ipynb",
      "provenance": [],
      "toc_visible": true
    },
    "language_info": {
      "codemirror_mode": {
        "name": "ipython",
        "version": 3
      },
      "file_extension": ".py",
      "mimetype": "text/x-python",
      "name": "python",
      "nbconvert_exporter": "python",
      "pygments_lexer": "ipython3",
      "version": "3.5.5"
    },
    "kernelspec": {
      "display_name": "Python 3",
      "language": "python",
      "name": "python3"
    }
  },
  "cells": [
    {
      "cell_type": "markdown",
      "metadata": {
        "id": "2CzqHfUiy2WY",
        "colab_type": "text"
      },
      "source": [
        "# K-means Clustering Algorithm\n",
        "\n",
        "You will implement the K-means unsupervised learning algorithm.\n",
        "\n",
        "Use the simplified Iris dataset provided to test your code.\n",
        "\n",
        "Column 1: sepal length.\n",
        "Column 2: sepal width\n",
        "\n",
        "50 samples for setosa, 50 samples for versicolor\n",
        "\n",
        "   \n"
      ]
    },
    {
      "cell_type": "code",
      "metadata": {
        "id": "DzkMQ40ey2WZ",
        "colab_type": "code",
        "outputId": "c0bc3f66-640e-4951-b9b5-ecf61bc5ec4e",
        "colab": {
          "base_uri": "https://localhost:8080/",
          "height": 283
        }
      },
      "source": [
        "# Load dataset and plot it\n",
        "\n",
        "%matplotlib inline\n",
        "import numpy as np\n",
        "import pandas as pd\n",
        "from copy import deepcopy\n",
        "from matplotlib import pyplot as plt\n",
        "from sklearn.cluster import KMeans\n",
        "\n",
        "df = pd.read_csv('wine_dataset_new.csv')\n",
        "\n",
        "df1 = df['Alcohol'].values\n",
        "df2 = df['Flavanoids'].values\n",
        "X = np.array(list(zip(df1, df2)))   # 100 x 2\n",
        "plt.scatter(df1, df2, c='black', s=7)\n",
        "print(X.shape)"
      ],
      "execution_count": 7,
      "outputs": [
        {
          "output_type": "stream",
          "text": [
            "(178, 2)\n"
          ],
          "name": "stdout"
        },
        {
          "output_type": "display_data",
          "data": {
            "image/png": "[encoded data removed]",
            "text/plain": [
              "<Figure size 432x288 with 1 Axes>"
            ]
          },
          "metadata": {
            "tags": []
          }
        }
      ]
    },
    {
      "cell_type": "code",
      "metadata": {
        "id": "L0hmeGa7zQc7",
        "colab_type": "code",
        "colab": {}
      },
      "source": [
        "# Do K-Means clustering\n",
        "kmeans = KMeans(n_clusters=2, random_state=0).fit(X)\n",
        "clusters = kmeans.labels_\n",
        "centroids = kmeans. cluster_centers_"
      ],
      "execution_count": 0,
      "outputs": []
    },
    {
      "cell_type": "code",
      "metadata": {
        "id": "-84QrJ963gbf",
        "colab_type": "code",
        "colab": {}
      },
      "source": [
        ""
      ],
      "execution_count": 0,
      "outputs": []
    },
    {
      "cell_type": "code",
      "metadata": {
        "id": "pgwrni-by2Wi",
        "colab_type": "code",
        "outputId": "d17403a0-5110-47a8-f02f-8b2f4ec49541",
        "colab": {
          "base_uri": "https://localhost:8080/",
          "height": 300
        }
      },
      "source": [
        "# Plot result\n",
        "def plot_clusters(X, clusters, centroids):\n",
        "    \"\"\"\n",
        "      X : 100x2 data matrix\n",
        "      clusters: 100x1 vector indicating the cluster assignment of each data point\n",
        "      centroids: 2x2 matrix, the row contains the coordinate of the centroid \n",
        "    \"\"\"\n",
        "    colors = ['r', 'g', 'b', 'y', 'c', 'm']\n",
        "    k,_ = np.shape(centroids)\n",
        "\n",
        "    fig, ax = plt.subplots()\n",
        "    for i in range(k):\n",
        "        print(colors[i])\n",
        "        points = np.array([X[j] for j in range(len(X)) if clusters[j] == i])\n",
        "        plt.scatter(points[:, 0], points[:, 1], s=7, c=colors[i])\n",
        "        #ax.scatter(points[:, 0], points[:, 1], s=7, c=colors[i])\n",
        "\n",
        "    plt.scatter(centroids[:,0], centroids[:,1], marker='*', s=150, c='y')\n",
        "    \n",
        "plot_clusters(X, clusters, centroids)"
      ],
      "execution_count": 9,
      "outputs": [
        {
          "output_type": "stream",
          "text": [
            "r\n",
            "g\n"
          ],
          "name": "stdout"
        },
        {
          "output_type": "display_data",
          "data": {
            "image/png": "[encoded data removed]",
            "text/plain": [
              "<Figure size 432x288 with 1 Axes>"
            ]
          },
          "metadata": {
            "tags": []
          }
        }
      ]
    }
  ]
}