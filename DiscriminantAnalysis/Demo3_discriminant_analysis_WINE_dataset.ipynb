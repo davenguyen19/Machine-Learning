{
  "nbformat": 4,
  "nbformat_minor": 0,
  "metadata": {
    "colab": {
      "name": "Demo3_discriminant_analysis_WINE_dataset.ipynb",
      "provenance": [],
      "toc_visible": true
    },
    "language_info": {
      "codemirror_mode": {
        "name": "ipython",
        "version": 3
      },
      "file_extension": ".py",
      "mimetype": "text/x-python",
      "name": "python",
      "nbconvert_exporter": "python",
      "pygments_lexer": "ipython3",
      "version": "3.5.5"
    },
    "kernelspec": {
      "display_name": "Python 3",
      "language": "python",
      "name": "python3"
    }
  },
  "cells": [
    {
      "cell_type": "markdown",
      "metadata": {
        "collapsed": true,
        "id": "Jfb0z-aORDby",
        "colab_type": "text"
      },
      "source": [
        "# DISCRIMINANT ANALYSIS\n",
        "\n",
        "Using the linear discriminant analysis function in sklearn, classify a multi-class dataset.\n"
      ]
    },
    {
      "cell_type": "code",
      "metadata": {
        "id": "iynNTT9bRDb1",
        "colab_type": "code",
        "outputId": "245cd95d-7a19-4670-83a1-62574c72361c",
        "colab": {
          "base_uri": "https://localhost:8080/",
          "height": 289
        }
      },
      "source": [
        "import numpy as np\n",
        "import pandas as pd\n",
        "import matplotlib.pyplot as plt\n",
        "import numpy as np\n",
        "from sklearn.discriminant_analysis import LinearDiscriminantAnalysis\n",
        "\n",
        "# Load training data - 135 observations, 4 features, 3 classes, \n",
        "df = pd.read_csv(\"wine_dataset_training.csv\")\n",
        "print(df.head())\n",
        "df = df.values\n",
        "X_train = df[:,0:4]\n",
        "y_train = df[:,13]\n",
        "\n",
        "# Load validation data - 15 samples\n",
        "df = pd.read_csv(\"wine_dataset_validate.csv\")\n",
        "print(df.head())\n",
        "df = df.values\n",
        "X_test = df[:,0:4]\n",
        "y_test = df[:,13]"
      ],
      "execution_count": 8,
      "outputs": [
        {
          "output_type": "stream",
          "text": [
            "   Alcohol  Malic acid   Ash  ...  OD280/OD315 of diluted wines  Proline  Wine Type\n",
            "0    14.23        1.71  2.43  ...                          3.92     1065          1\n",
            "1    13.20        1.78  2.14  ...                          3.40     1050          1\n",
            "2    13.16        2.36  2.67  ...                          3.17     1185          1\n",
            "3    14.37        1.95  2.50  ...                          3.45     1480          1\n",
            "4    14.20        1.76  2.45  ...                          2.85     1450          1\n",
            "\n",
            "[5 rows x 14 columns]\n",
            "   Alcohol  Malic acid   Ash  ...  OD280/OD315 of diluted wines  Proline  Wine Type\n",
            "0    13.86        1.35  2.27  ...                          3.55     1045          1\n",
            "1    14.10        2.16  2.30  ...                          3.17     1510          1\n",
            "2    14.12        1.48  2.32  ...                          2.82     1280          1\n",
            "3    12.21        1.19  1.75  ...                          3.07      718          2\n",
            "4    13.84        4.12  2.38  ...                          1.64      480          3\n",
            "\n",
            "[5 rows x 14 columns]\n"
          ],
          "name": "stdout"
        }
      ]
    },
    {
      "cell_type": "code",
      "metadata": {
        "id": "_zNUSuQnSf4q",
        "colab_type": "code",
        "colab": {}
      },
      "source": [
        "# Use LDA to train the model with training data\n",
        "model = LinearDiscriminantAnalysis().fit(X_train, y_train)"
      ],
      "execution_count": 0,
      "outputs": []
    },
    {
      "cell_type": "code",
      "metadata": {
        "id": "gsY2g-fWShLg",
        "colab_type": "code",
        "outputId": "9fcdeaf7-e4b3-45fb-cec9-12f8c68b33c3",
        "colab": {
          "base_uri": "https://localhost:8080/",
          "height": 323
        }
      },
      "source": [
        "# Test model with validation data\n",
        "y_hat = model.predict(X_test)\n",
        "score = model.score(X_test, y_test)\n",
        "\n",
        "for i in range (0, len(y_test)):\n",
        "  print('y={0}, y_hat={1}'.format(y_test[i], y_hat[i]))\n",
        "\n",
        "print('Average accuracy = {0:2f}'.format(score))"
      ],
      "execution_count": 10,
      "outputs": [
        {
          "output_type": "stream",
          "text": [
            "y=1.0, y_hat=1.0\n",
            "y=1.0, y_hat=1.0\n",
            "y=1.0, y_hat=1.0\n",
            "y=2.0, y_hat=2.0\n",
            "y=3.0, y_hat=3.0\n",
            "y=2.0, y_hat=2.0\n",
            "y=2.0, y_hat=2.0\n",
            "y=2.0, y_hat=3.0\n",
            "y=3.0, y_hat=2.0\n",
            "y=3.0, y_hat=3.0\n",
            "y=1.0, y_hat=1.0\n",
            "y=3.0, y_hat=2.0\n",
            "y=3.0, y_hat=1.0\n",
            "y=2.0, y_hat=2.0\n",
            "y=2.0, y_hat=2.0\n",
            "y=1.0, y_hat=1.0\n",
            "y=3.0, y_hat=3.0\n",
            "Average accuracy = 0.764706\n"
          ],
          "name": "stdout"
        }
      ]
    }
  ]
}